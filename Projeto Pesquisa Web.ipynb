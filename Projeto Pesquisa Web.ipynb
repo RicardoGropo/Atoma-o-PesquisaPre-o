{
 "cells": [
  {
   "cell_type": "markdown",
   "metadata": {},
   "source": [
    "                                            Inicializador do Navegador"
   ]
  },
  {
   "cell_type": "code",
   "execution_count": 12,
   "metadata": {},
   "outputs": [],
   "source": [
    " # Criar um navegador \n",
    "from selenium import webdriver\n",
    "from selenium.webdriver.common.keys import Keys\n",
    "from selenium.webdriver.common.by import By\n",
    "from selenium.webdriver.support.ui import WebDriverWait\n",
    "from selenium.webdriver.support import expected_conditions as EC\n",
    "import time\n",
    "import pandas as pd\n",
    "\n",
    "navegador = webdriver.Chrome()\n"
   ]
  },
  {
   "cell_type": "markdown",
   "metadata": {},
   "source": [
    "                                                    Tabela Produtos"
   ]
  },
  {
   "cell_type": "code",
   "execution_count": 13,
   "metadata": {},
   "outputs": [
    {
     "data": {
      "text/html": [
       "<div>\n",
       "<style scoped>\n",
       "    .dataframe tbody tr th:only-of-type {\n",
       "        vertical-align: middle;\n",
       "    }\n",
       "\n",
       "    .dataframe tbody tr th {\n",
       "        vertical-align: top;\n",
       "    }\n",
       "\n",
       "    .dataframe thead th {\n",
       "        text-align: right;\n",
       "    }\n",
       "</style>\n",
       "<table border=\"1\" class=\"dataframe\">\n",
       "  <thead>\n",
       "    <tr style=\"text-align: right;\">\n",
       "      <th></th>\n",
       "      <th>Nome</th>\n",
       "      <th>Termos banidos</th>\n",
       "      <th>Preço mínimo</th>\n",
       "      <th>Preço máximo</th>\n",
       "    </tr>\n",
       "  </thead>\n",
       "  <tbody>\n",
       "    <tr>\n",
       "      <th>0</th>\n",
       "      <td>iphone 12 64gb</td>\n",
       "      <td>mini watch</td>\n",
       "      <td>1000</td>\n",
       "      <td>3500</td>\n",
       "    </tr>\n",
       "    <tr>\n",
       "      <th>1</th>\n",
       "      <td>rtx 3060</td>\n",
       "      <td>zota galax</td>\n",
       "      <td>1000</td>\n",
       "      <td>4500</td>\n",
       "    </tr>\n",
       "  </tbody>\n",
       "</table>\n",
       "</div>"
      ],
      "text/plain": [
       "             Nome Termos banidos  Preço mínimo  Preço máximo\n",
       "0  iphone 12 64gb     mini watch          1000          3500\n",
       "1        rtx 3060     zota galax          1000          4500"
      ]
     },
     "metadata": {},
     "output_type": "display_data"
    }
   ],
   "source": [
    "# Importar ee Visualizar a base de dados\n",
    "tabela_produtos = pd.read_excel('buscas.xlsx')\n",
    "display(tabela_produtos)\n"
   ]
  },
  {
   "cell_type": "markdown",
   "metadata": {},
   "source": [
    "                                                   PESQUISA BUSCAPÈ"
   ]
  },
  {
   "cell_type": "code",
   "execution_count": 14,
   "metadata": {},
   "outputs": [],
   "source": [
    "\n",
    "import time\n",
    "\n",
    "def verificar_tem_termos_banidos(lista_termos_banidos, nome):\n",
    "    tem_termos_banidos = False\n",
    "    for palavra in lista_termos_banidos:\n",
    "        if palavra in nome:\n",
    "            termos_banidos = True\n",
    "    return tem_termos_banidos\n",
    "            \n",
    "          \n",
    "def verificar_tem_todos_termos_produto(lista_termos_nome_produto, nome):\n",
    "    tem_todos_termos_produtos = True\n",
    "    for palavra in lista_termos_nome_produto:\n",
    "        if palavra not in nome:\n",
    "            tem_todos_termos_produtos = False \n",
    "    return tem_todos_termos_produtos\n",
    "\n",
    "# busca pelo produto\n",
    "\n",
    "produto = \"iphone 12 64gb\"\n",
    "termos_banidos = \"mini watch\"\n",
    "lista_termos_banidos = termos_banidos.split(\" \")\n",
    "lista_termos_nome_produto = produto.split(\" \")\n",
    "preco_minimo = 1000\n",
    "preco_maximo = 5000\n",
    "lista_resultados = []\n",
    "lista_ofertas = []\n",
    "\n",
    "# Função Buscapé\n",
    "def busca_busca_pe(navegador, produto, termos_banidos, preco_minimo, preco_maximo):\n",
    "    # tratar valores\n",
    "  produto = produto.lower()\n",
    "  termos_banidos = termos_banidos.lower()\n",
    "  lista_termos_banidos = termos_banidos.split(\" \")\n",
    "  lista_termos_nome_produto = produto.split(\" \")\n",
    "  preco_minimo = float(preco_minimo)\n",
    "  preco_maximo = float(preco_maximo)\n",
    "   \n",
    "    # buscar no buscapé\n",
    "  navegador.get(\"https://www.buscape.com.br/?og=19220&og=19220&gad_source=1&gclid=Cj0KCQjwy46_BhDOARIsAIvmcwOnHurHVyPH_3J8ZqatqvlRY-JPc2Wi8fJYVz5jvwcRQUVJSo6dMYwaAhFtEALw_wcB\")\n",
    "  time.sleep(2)\n",
    "  navegador.find_element('xpath', '/html/body/div[1]/main/header/div[1]/div/div/div[3]/div/div/div[2]/div/div[1]/input').send_keys(produto, Keys.ENTER)\n",
    "\n",
    "# pegar os resultados\n",
    "  lista_resultados = WebDriverWait(navegador, 10).until(EC.presence_of_all_elements_located((By.CLASS_NAME, 'ProductCard_ProductCard_Inner__gapsh')))\n",
    "  for resultado in lista_resultados:\n",
    "      preco = WebDriverWait(resultado, 5).until(\n",
    "                EC.presence_of_element_located((By.CLASS_NAME, 'Text_Text__ARJdp.Text_MobileHeadingS__HEz7L'))\n",
    "              ).text\n",
    "      nome = WebDriverWait(resultado, 5).until(\n",
    "                EC.presence_of_element_located((By.CLASS_NAME, 'Text_Text__ARJdp.Text_MobileLabelXs__dHwGG.Text_DesktopLabelSAtLarge__wWsED.ProductCard_ProductCard_Name__U_mUQ'))\n",
    "              ).text\n",
    "      link = resultado.get_attribute('href') \n",
    "    #print(nome, preco, link) # pegar o link\n",
    "    # analisar se ele não tem nenhum termo banido\n",
    "      tem_termos_banidos = verificar_tem_termos_banidos(lista_termos_banidos,nome)\n",
    "\n",
    "    #analisar se ele tem TODOS os termos do produto\n",
    "      tem_todos_termos_produto = verificar_tem_todos_termos_produto(lista_termos_nome_produto, nome)\n",
    "# selecionar só os elementos que tem_temos_banidos = False e ao mesmo tempo tem_todos_temos_produto\n",
    "      if not tem_termos_banidos and tem_todos_termos_produto:\n",
    "          preco = preco.replace(\"R$\", \"\").replace(\" \", \"\").replace(\".\", \"\").replace(\",\", \".\")\n",
    "          preco = float(preco)\n",
    "        # analisar se o preço esta entre o preço minimo e preço maximo\n",
    "          if not tem_termos_banidos and tem_todos_termos_produto:\n",
    "              if preco_minimo <= preco <= preco_maximo:\n",
    "                  lista_ofertas.append((nome, preco, link))\n",
    "  return lista_ofertas\n"
   ]
  },
  {
   "cell_type": "markdown",
   "metadata": {},
   "source": [
    "                                                Tabela com Produtos"
   ]
  },
  {
   "cell_type": "code",
   "execution_count": 15,
   "metadata": {},
   "outputs": [],
   "source": [
    "tabela_ofertas = pd.DataFrame() # tabela que junta todos resultados\n",
    "\n",
    "for linha in tabela_produtos.index:\n",
    "    produto = tabela_produtos.loc[linha, \"Nome\"]\n",
    "    termos_banidos = tabela_produtos.loc[linha, \"Termos banidos\"]\n",
    "    preco_minimo = tabela_produtos.loc[linha, \"Preço mínimo\"]\n",
    "    preco_maximo = tabela_produtos.loc[linha, \"Preço máximo\"]\n",
    "    \n",
    "    lista_ofertas_buscape = busca_busca_pe(navegador, produto, termos_banidos, preco_minimo, preco_maximo)\n",
    "    if lista_ofertas_buscape:   # verifica se tem alguma coisa na lista\n",
    "        tabela_buscape = pd.DataFrame(lista_ofertas_buscape, columns=[\"produto\", \"preco\", \"link\"])\n",
    "        tabela_ofertas = pd.concat([tabela_ofertas, tabela_buscape])\n",
    "else:\n",
    "        tabela_buscape = None\n",
    "        \n",
    "\n"
   ]
  },
  {
   "cell_type": "markdown",
   "metadata": {},
   "source": [
    "                                                 Esportando para o Excel"
   ]
  },
  {
   "cell_type": "code",
   "execution_count": 5,
   "metadata": {},
   "outputs": [],
   "source": [
    "tabela_ofertas.to_excel(\"Ofertas.xlsx\", index=False) # index vai eliminar a coluna indice "
   ]
  },
  {
   "cell_type": "markdown",
   "metadata": {},
   "source": [
    "                                                   Enviando por E-mail"
   ]
  },
  {
   "cell_type": "code",
   "execution_count": 18,
   "metadata": {},
   "outputs": [
    {
     "name": "stdout",
     "output_type": "stream",
     "text": [
      "E-mail enviado com sucesso!\n"
     ]
    }
   ],
   "source": [
    "import email.message\n",
    "import smtplib\n",
    "\n",
    "if len(tabela_ofertas) > 0:\n",
    "    # emails = pd.read_excel(r'tabela_ofertas.xlsx')  # Removed as tabela_ofertas is already available\n",
    "    senha = 'trar omgq rpld ryja '\n",
    "    msg = email.message.EmailMessage()\n",
    "    msg['From'] = \"ricardogropofx@gmail.com\"\n",
    "    msg['To'] = \"recipient@example.com\"  # Replace with the recipient's email address\n",
    "    msg[\"Subject\"] = \"Tabela com Produtos Encontrados\"\n",
    "    msg.set_content(f\"\"\"\n",
    "    Prezados Gerentes,\n",
    "\n",
    "    Segue tabela com produtos encontrados.\n",
    "\n",
    "    Att. Ricardo\n",
    "    \"\"\")\n",
    "    msg.add_alternative(f\"\"\"\n",
    "    <html>\n",
    "        <body>\n",
    "            <p>Prezados Gerentes,</p>\n",
    "            <p>Segue tabela com produtos encontrados:</p>\n",
    "            {tabela_ofertas.to_html(index=False)}\n",
    "            <p>Att. Ricardo</p>\n",
    "        </body>\n",
    "    </html>\n",
    "    \"\"\", subtype='html')\n",
    "    servidor = smtplib.SMTP('smtp.gmail.com', 587)\n",
    "    servidor.starttls()\n",
    "    servidor.login(msg[\"From\"], senha)\n",
    "    servidor.send_message(msg)\n",
    "    servidor.quit()\n",
    "    print('E-mail enviado com sucesso!')\n"
   ]
  }
 ],
 "metadata": {
  "kernelspec": {
   "display_name": "Python 3",
   "language": "python",
   "name": "python3"
  },
  "language_info": {
   "codemirror_mode": {
    "name": "ipython",
    "version": 3
   },
   "file_extension": ".py",
   "mimetype": "text/x-python",
   "name": "python",
   "nbconvert_exporter": "python",
   "pygments_lexer": "ipython3",
   "version": "3.12.4"
  }
 },
 "nbformat": 4,
 "nbformat_minor": 2
}
